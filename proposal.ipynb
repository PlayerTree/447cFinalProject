{
 "cells": [
  {
   "cell_type": "markdown",
   "metadata": {},
   "source": [
    "Project Proposal\n",
    "William Kawira 80533466\n",
    "\n",
    "Introduction\n",
    "In this project I would like to implement bayesian theory with time series logistic regression taking into consideration the frequency of update of model, the transformation method that could be done to counteract up/downwards trend, and also how It would compare to implement the model without updating the model at all. The main concern of the bayesian approach for this project would be how the frequency of update would affect the performance of the model. If possible I would also like to implement multivariate time series to help maximize the performance of the model. the model would focus on calculating the probability of the values being higher/lower using a logistic regression model.\n",
    "\n",
    "The dataset I would like to use for this project would be the stock prices of some Starbucks, and Kroger stocks obtained from nasdaq.com. For the additional variable I would use the S&P 500, US dollar Index from marketwatch.com. The data that I would use for this task would only be the daily closing prices starting from 2010 with the weekend prices skipped over i.e. 1-5 monday - friday 6 - 10 monday to friday. The prior model would be the model created from 2010-2015 specifically and the rest of the data from 2015 to current prices would be split into testing and training data. The prior will be made as simple as possible using AR, MA, or ARMA model or even binomial model with parameters that would be made manually from my observation making it as primitive as possible\n",
    "\n",
    "The variability in update frequency would be daily, weekly, and monthly with the data still being the daily closing prices of that time period. For each update I would test the model to the test data interval and then calculate the test score after each update. Then, I would normalize the test scores accordingly by comparing the normalized average scores of each update frequency. The base model for the frequentist approach would be made by using the data only upto 2015 as a train data without any prior beliefs and updates. MC MC sampling would also be implemented if it could help boost the performance of the model."
   ]
  }
 ],
 "metadata": {
  "language_info": {
   "name": "python"
  }
 },
 "nbformat": 4,
 "nbformat_minor": 2
}
