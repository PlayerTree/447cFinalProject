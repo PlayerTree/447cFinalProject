{
 "cells": [
  {
   "cell_type": "markdown",
   "metadata": {},
   "source": [
    "### Project Proposal\n",
    "William Kawira 80533466\n",
    "\n",
    "#### Introduction\n",
    "In this project I am going to use the Duchenne muscular dystrophy dataset obtained from the https://hbiostat.org/data/ website. In this project I would like to apply bayesian regression on the dataset and compare its performance to the frequentist approach towards regression. Considering that the topic of interest is categorical, I would like to focus on logistic regression. The main problem I would like to tackle in this topic is how would the frequentist approach compare to the bayesian approach. To make sure that both model is in its best form optimize the bayesian approach, meaning trying multiple combination of variables in order to produce the best model. As for the frequentist approach I would optimize the model using recursive feature elimination to give the best model with the least number of variable.\n",
    "\n",
    "The model will be created in R and I will utilize STAN for the bayesian approach. The bayesian model will be evaluated using leave one out cross validation to be as efficient as possible and the combination of variables would be selected partly based on the frequentist approach variable selection. The frequentist approach on the other hand will be evaluated using normal cross validation and the combination would be selected using recursive feature elimination. I will also avoid using interaction terms as much as possible to make the model as simple as possible and allow easier evaluation. After each approach has been evaluated and has produced the best selected model, I would then plot its ROC to compare the score of both model. If the variable selected by both approach is different I would then compare how the model selected by the bayesian approach perform when used in the frequentist approach and vice versa. "
   ]
  }
 ],
 "metadata": {
  "language_info": {
   "name": "python"
  }
 },
 "nbformat": 4,
 "nbformat_minor": 2
}
